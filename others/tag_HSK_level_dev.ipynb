{
 "cells": [
  {
   "cell_type": "code",
   "execution_count": 1,
   "metadata": {},
   "outputs": [
    {
     "name": "stdin",
     "output_type": "stream",
     "text": [
      " 在一个商店,他看到一只小猫,对不起,大家到了清华大学\n"
     ]
    },
    {
     "data": {
      "text/plain": [
       "'在一个商店,他看到一只小猫,对不起,大家到了清华大学'"
      ]
     },
     "execution_count": 1,
     "metadata": {},
     "output_type": "execute_result"
    }
   ],
   "source": [
    "text=input()\n",
    "# text='一家人在吃饭。 儿子问：“爸爸，虫子能吃吗？” 爸爸说：“儿子， 妈妈做的饭菜好吃吗？” 儿子说：“很好吃！” 爸爸说：“那么，你好好吃饭。 吃饭的时候，不要说话。好吗？” 儿子说：“好的。”'\n",
    "# text='在一个商店,他看到一只小猫,对不起,大家到了清华大学'\n",
    "text"
   ]
  },
  {
   "cell_type": "code",
   "execution_count": 4,
   "metadata": {},
   "outputs": [],
   "source": [
    "import json\n",
    "import termcolor\n",
    "import jieba\n",
    "\n",
    "with open('hsk-level-1.json') as file:\n",
    "    hsk1_data = json.load(file)\n",
    "hsk1_words = []\n",
    "for item in hsk1_data:\n",
    "    hsk1_words.append(item['hanzi'])\n",
    "\n",
    "with open('hsk-level-2.json') as file:\n",
    "    hsk2_data = json.load(file)\n",
    "hsk2_words = []\n",
    "for item in hsk2_data:\n",
    "    hsk2_words.append(item['hanzi'])\n",
    "\n",
    "with open('hsk-level-3.json') as file:\n",
    "    hsk3_data = json.load(file)\n",
    "hsk3_words = []\n",
    "for item in hsk3_data:\n",
    "    hsk3_words.append(item['hanzi'])"
   ]
  },
  {
   "cell_type": "code",
   "execution_count": 5,
   "metadata": {},
   "outputs": [
    {
     "name": "stderr",
     "output_type": "stream",
     "text": [
      "Building prefix dict from the default dictionary ...\n"
     ]
    },
    {
     "name": "stdout",
     "output_type": "stream",
     "text": [
      "using jieba for word segmentation:\n"
     ]
    },
    {
     "name": "stderr",
     "output_type": "stream",
     "text": [
      "Dumping model to file cache /tmp/jieba.cache\n",
      "Loading model cost 0.868 seconds.\n",
      "Prefix dict has been built succesfully.\n"
     ]
    },
    {
     "name": "stdout",
     "output_type": "stream",
     "text": [
      "在 1\n",
      "一个 2\n",
      "商店 2\n",
      ", 1\n",
      "他 1\n",
      "看到 2\n",
      "一只 2\n",
      "小猫 2\n",
      ", 1\n",
      "对不起 3\n",
      ", 1\n",
      "大家 2\n",
      "到 1\n",
      "了 1\n",
      "清华大学 4\n",
      "=======================\n",
      "HSK1: ['在', '一', '个', '商店', '商', '店', '他', '看', '小', '猫', '对不起', '不', '大', '家', '了', '学']\n",
      "HSK2: ['到', '大家']\n",
      "HSK3: ['只']\n"
     ]
    }
   ],
   "source": [
    "tagged_words_hsk1=[]\n",
    "tagged_words_hsk2=[]\n",
    "tagged_words_hsk3=[]\n",
    "\n",
    "print(\"using jieba for word segmentation:\")\n",
    "for word in jieba.cut(text, cut_all=False):\n",
    "    #cut word in small pieces\n",
    "    print(word,len(word))\n",
    "    # for each word output from jieba, check the subset of it\n",
    "    subset_of_word=[]\n",
    "    if len(word) >= 4:\n",
    "#         print(word,4)\n",
    "        subset_of_word.append(word[0])\n",
    "        subset_of_word.append(word[1])\n",
    "        subset_of_word.append(word[2])\n",
    "        subset_of_word.append(word[3])\n",
    "        subset_of_word.append(word[0:2])\n",
    "        subset_of_word.append(word[1:3])\n",
    "        subset_of_word.append(word[2:4])\n",
    "        subset_of_word.append(word[0:3])\n",
    "        subset_of_word.append(word[1:4])\n",
    "    elif len(word) >= 3:\n",
    "#         print(word,3)\n",
    "        subset_of_word.append(word[0])\n",
    "        subset_of_word.append(word[1])\n",
    "        subset_of_word.append(word[2])\n",
    "        subset_of_word.append(word[0:2])\n",
    "        subset_of_word.append(word[1:3])\n",
    "    elif len(word)>=2:\n",
    "#         print(word,2)\n",
    "        subset_of_word.append(word[0])\n",
    "        subset_of_word.append(word[1])\n",
    "\n",
    "# check the word directly from jieba    \n",
    "    if word in hsk1_words and word not in tagged_words_hsk1:\n",
    "        tagged_words_hsk1.append(word)\n",
    "    elif word in hsk2_words and word not in tagged_words_hsk2:\n",
    "        tagged_words_hsk2.append(word)\n",
    "    elif word in hsk3_words and word not in tagged_words_hsk3:\n",
    "        tagged_words_hsk3.append(word)\n",
    "    \n",
    "    \n",
    "# also check subset of the word \n",
    "    for i in subset_of_word:\n",
    "#         print(i)\n",
    "        if i in hsk1_words and i not in tagged_words_hsk1:\n",
    "            tagged_words_hsk1.append(i)\n",
    "        if i in hsk2_words and i not in tagged_words_hsk2:\n",
    "            tagged_words_hsk2.append(i)\n",
    "        if i in hsk3_words and i not in tagged_words_hsk3:\n",
    "            tagged_words_hsk3.append(i)\n",
    "print(\"=======================\")\n",
    "print(\"HSK1:\",tagged_words_hsk1)\n",
    "print(\"HSK2:\",tagged_words_hsk2)\n",
    "print(\"HSK3:\",tagged_words_hsk3)"
   ]
  },
  {
   "cell_type": "code",
   "execution_count": 6,
   "metadata": {},
   "outputs": [
    {
     "name": "stdout",
     "output_type": "stream",
     "text": [
      "商店\n",
      "对不起\n",
      "0 在 1 0 0\n",
      "1 一 1 0 0\n",
      "2 个 1 0 0\n",
      "3 商 1 0 0\n",
      "4 店 1 0 0\n",
      "5 , 0 0 0\n",
      "6 他 1 0 0\n",
      "7 看 1 0 0\n",
      "8 到 0 2 0\n",
      "9 一 1 0 0\n",
      "10 只 0 0 3\n",
      "11 小 1 0 0\n",
      "12 猫 1 0 0\n",
      "13 , 0 0 0\n",
      "14 对 1 0 0\n",
      "15 不 1 0 0\n",
      "16 起 1 0 0\n",
      "17 , 0 0 0\n",
      "18 大 1 2 0\n",
      "19 家 1 2 0\n",
      "20 到 0 2 0\n",
      "21 了 1 0 0\n",
      "22 清 0 0 0\n",
      "23 华 0 0 0\n",
      "24 大 1 0 0\n",
      "25 学 1 0 0\n"
     ]
    }
   ],
   "source": [
    "# Create list of flags for each HSK level\n",
    "\n",
    "# initialize flag as list of 0\n",
    "hsk1_flag=[0]*len(text)\n",
    "hsk2_flag=[0]*len(text)\n",
    "hsk3_flag=[0]*len(text)\n",
    "\n",
    "\n",
    "def tag(flag_list_name,starting_position, length, hsk_level):\n",
    "    ## flag a slice of list according to the length\n",
    "    for i in range(length):\n",
    "        flag_list_name[starting_position+i]=hsk_level\n",
    "        None\n",
    "\n",
    "\n",
    "\n",
    "for cursor_position in enumerate(text):\n",
    "# test word from one syllable to 4 syllables, flag of longer word will override short word in the same level\n",
    "\n",
    "    window=text[cursor_position[0]:cursor_position[0]+4]\n",
    "    if len(window) != 4:\n",
    "        None\n",
    "    elif window in tagged_words_hsk1:\n",
    "        tag(hsk1_flag,cursor_position[0],4,1)\n",
    "    elif window in tagged_words_hsk2:\n",
    "        tag(hsk2_flag,cursor_position[0],4,2)\n",
    "    elif window in tagged_words_hsk3:\n",
    "        tag(hsk3_flag,cursor_position[0],4,3)\n",
    "        \n",
    "    window=text[cursor_position[0]:cursor_position[0]+3]        \n",
    "    if len(window) != 3:\n",
    "        None    \n",
    "    elif window in tagged_words_hsk1:\n",
    "        print(window) \n",
    "        tag(hsk1_flag,cursor_position[0],3,1)\n",
    "    elif window in tagged_words_hsk2:\n",
    "        tag(hsk2_flag,cursor_position[0],3,2)\n",
    "    elif window in tagged_words_hsk3:\n",
    "        tag(hsk3_flag,cursor_position[0],3,3)\n",
    "\n",
    "    window=text[cursor_position[0]:cursor_position[0]+2]\n",
    "    if len(window) != 2:\n",
    "        None\n",
    "    elif window in tagged_words_hsk1:\n",
    "        print(window) \n",
    "        tag(hsk1_flag,cursor_position[0],2,1)\n",
    "    elif window in tagged_words_hsk2:\n",
    "        tag(hsk2_flag,cursor_position[0],2,2)\n",
    "    elif window in tagged_words_hsk3:\n",
    "        tag(hsk3_flag,cursor_position[0],2,3)\n",
    "\n",
    "    window=text[cursor_position[0]:cursor_position[0]+1]    \n",
    "    if window in tagged_words_hsk1:\n",
    "        tag(hsk1_flag,cursor_position[0],1,1)\n",
    "    elif window in tagged_words_hsk2:\n",
    "        tag(hsk2_flag,cursor_position[0],1,2)\n",
    "    elif window in tagged_words_hsk3:\n",
    "        tag(hsk3_flag,cursor_position[0],1,3)\n",
    "\n",
    "\n",
    "\n",
    "# check tagging result for each HSK level\n",
    "\n",
    "for i in enumerate(text):\n",
    "    print(i[0],text[i[0]],hsk1_flag[i[0]], hsk2_flag[i[0]], hsk3_flag[i[0]])"
   ]
  },
  {
   "cell_type": "code",
   "execution_count": 7,
   "metadata": {},
   "outputs": [],
   "source": [
    "## combine flags and assign font color and background color to each character\n",
    "# Available text colors: red, green, yellow, blue, magenta, cyan, white.\n",
    "HSK1_color = 'red'\n",
    "HSK2_color = 'green'\n",
    "HSK3_color = 'yellow'\n",
    "\n",
    "combined_flag = []\n",
    "for i in enumerate(text):\n",
    "    d = {'character':text[i[0]],'font_color':None, 'bg_color':None}\n",
    "    combined_flag.append(d)\n",
    "\n",
    "for (cursor_position,character) in enumerate(text):\n",
    "#     print(cursor_position, character,hsk1_flag[cursor_position])\n",
    "    if hsk1_flag[cursor_position] != 0:\n",
    "        combined_flag[cursor_position]['font_color'] = HSK1_color\n",
    "    # for higher HSK level word, first check if it is already tagged. If so, using background color.\n",
    "    if hsk2_flag[cursor_position] != 0:\n",
    "        if combined_flag[cursor_position]['font_color'] == None:\n",
    "            combined_flag[cursor_position]['font_color'] = HSK2_color\n",
    "        elif combined_flag[cursor_position]['bg_color'] == None:\n",
    "            combined_flag[cursor_position]['bg_color'] = 'on_' + HSK2_color\n",
    "\n",
    "    if hsk3_flag[cursor_position] != 0:\n",
    "        if combined_flag[cursor_position]['font_color'] == None:\n",
    "            combined_flag[cursor_position]['font_color'] = HSK3_color\n",
    "        elif combined_flag[cursor_position]['bg_color'] == None:\n",
    "            combined_flag[cursor_position]['bg_color'] = 'on_' + HSK3_color\n",
    "    \n"
   ]
  },
  {
   "cell_type": "code",
   "execution_count": 8,
   "metadata": {},
   "outputs": [],
   "source": [
    "\n",
    "### old code below\n",
    "# while position<len(text):\n",
    "#     print(hsk2_flag[position])\n",
    "#     if hsk2_flag[position] == 4:\n",
    "#         combined_flag[position]['font_color']=HSK2_color\n",
    "#     elif hsk2_flag[position] == 3:\n",
    "#         combined_flag[position]['font_color']=HSK2_color\n",
    "#     elif hsk2_flag[position] == 2:\n",
    "#         combined_flag[position]['font_color']=HSK2_color\n",
    "#     elif hsk2_flag[position] == 1:\n",
    "#         combined_flag[position]['font_color']=HSK2_color\n",
    "\n",
    "#     if hsk1_flag[position] == 4:\n",
    "#         combined_flag[position]['font_color']=HSK1_color\n",
    "#         combined_flag[position+1]['font_color']=HSK1_color\n",
    "#         combined_flag[position+2]['font_color']=HSK1_color\n",
    "#         combined_flag[position+3]['font_color']=HSK1_color\n",
    "#         position +=4\n",
    "#     elif hsk1_flag[position] == 3:\n",
    "#         combined_flag[position]['font_color']=HSK1_color\n",
    "#         combined_flag[position+1]['font_color']=HSK1_color\n",
    "#         combined_flag[position+2]['font_color']=HSK1_color\n",
    "#         position +=3\n",
    "#     elif hsk1_flag[position] == 2:\n",
    "#         combined_flag[position]['font_color']=HSK1_color\n",
    "#         combined_flag[position+1]['font_color']=HSK1_color\n",
    "#         position +=2\n",
    "#     elif hsk1_flag[position] == 1:\n",
    "#         combined_flag[position]['font_color']=HSK1_color\n",
    "#         position +=1\n",
    "#     else: \n",
    "#         position +=1\n",
    "\n",
    "    "
   ]
  },
  {
   "cell_type": "code",
   "execution_count": 9,
   "metadata": {},
   "outputs": [],
   "source": [
    "# check combined_flag\n",
    "# combined_flag"
   ]
  },
  {
   "cell_type": "code",
   "execution_count": 10,
   "metadata": {},
   "outputs": [
    {
     "name": "stdout",
     "output_type": "stream",
     "text": [
      "Colored text (red for HSK1, green for HSK2, yellow for HSK3):\n",
      "---\n",
      "\u001b[31m在\u001b[0m\u001b[31m一\u001b[0m\u001b[31m个\u001b[0m\u001b[31m商\u001b[0m\u001b[31m店\u001b[0m,\u001b[0m\u001b[31m他\u001b[0m\u001b[31m看\u001b[0m\u001b[32m到\u001b[0m\u001b[31m一\u001b[0m\u001b[33m只\u001b[0m\u001b[31m小\u001b[0m\u001b[31m猫\u001b[0m,\u001b[0m\u001b[31m对\u001b[0m\u001b[31m不\u001b[0m\u001b[31m起\u001b[0m,\u001b[0m\u001b[42m\u001b[31m大\u001b[0m\u001b[42m\u001b[31m家\u001b[0m\u001b[32m到\u001b[0m\u001b[31m了\u001b[0m清\u001b[0m华\u001b[0m\u001b[31m大\u001b[0m\u001b[31m学\u001b[0m\n",
      "---\n",
      "HSK3 words: ['只']\n",
      "HSK2 words: ['到', '大家']\n",
      "HSK1 words: ['在', '一', '个', '商店', '商', '店', '他', '看', '小', '猫', '对不起', '不', '大', '家', '了', '学']\n"
     ]
    }
   ],
   "source": [
    "# output text according to the combined flag\n",
    "print(\"Colored text (red for HSK1, green for HSK2, yellow for HSK3):\\n---\")\n",
    "for i in enumerate(text):\n",
    "#     print(i,combined_flag[i[0]]['font_color'], combined_flag[i[0]]['bg_color'])\n",
    "    colored_word = termcolor.colored(i[1], color=combined_flag[i[0]]['font_color'], on_color=combined_flag[i[0]]['bg_color'])\n",
    "    print(colored_word, end=\"\")\n",
    "print(\"\\n---\")\n",
    "print('HSK3 words:', tagged_words_hsk3)\n",
    "print('HSK2 words:', tagged_words_hsk2)\n",
    "print('HSK1 words:', tagged_words_hsk1)"
   ]
  },
  {
   "cell_type": "code",
   "execution_count": null,
   "metadata": {},
   "outputs": [],
   "source": []
  },
  {
   "cell_type": "code",
   "execution_count": null,
   "metadata": {},
   "outputs": [],
   "source": []
  }
 ],
 "metadata": {
  "kernelspec": {
   "display_name": "Python 3",
   "language": "python",
   "name": "python3"
  },
  "language_info": {
   "codemirror_mode": {
    "name": "ipython",
    "version": 3
   },
   "file_extension": ".py",
   "mimetype": "text/x-python",
   "name": "python",
   "nbconvert_exporter": "python",
   "pygments_lexer": "ipython3",
   "version": "3.8.3"
  }
 },
 "nbformat": 4,
 "nbformat_minor": 4
}
